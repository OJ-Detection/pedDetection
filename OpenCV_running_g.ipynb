{
 "cells": [
  {
   "cell_type": "code",
   "execution_count": 1,
   "metadata": {},
   "outputs": [],
   "source": [
    "# Clone the repository.\n",
    "# !git clone https://github.com/ultralytics/YOLOv5"
   ]
  },
  {
   "cell_type": "code",
   "execution_count": 2,
   "metadata": {},
   "outputs": [],
   "source": [
    "# !pip install -r C:/Users/admin/Documents/GitHub/deepLearning/YOLOv5/requirements.txt\n",
    "# !pip install onnx"
   ]
  },
  {
   "cell_type": "code",
   "execution_count": 3,
   "metadata": {},
   "outputs": [],
   "source": [
    "# Download .pt model.\n",
    "# !wget https://github.com/ultralytics/YOLOv5/releases/download/v6.1/YOLOv5s.pt"
   ]
  },
  {
   "cell_type": "code",
   "execution_count": 4,
   "metadata": {},
   "outputs": [],
   "source": [
    "# !python /content/YOLOv5/export.py --weights /content/YOLOv5s.pt --include onnx"
   ]
  },
  {
   "cell_type": "code",
   "execution_count": 3,
   "metadata": {},
   "outputs": [],
   "source": [
    "# 라이브러리 추가\n",
    "\n",
    "\n",
    "import cv2\n",
    "import numpy as np\n",
    "import onnx"
   ]
  },
  {
   "cell_type": "code",
   "execution_count": 4,
   "metadata": {},
   "outputs": [],
   "source": [
    "# 인자\n",
    "INPUT_WIDTH = 640\n",
    "INPUT_HEIGHT = 640\n",
    "SCORE_THRESHOLD = 0.5\n",
    "NMS_THRESHOLD = 0.45\n",
    "CONFIDENCE_THRESHOLD = 0.45\n",
    "\n",
    "# 텍스트 파라미터\n",
    "FONT_FACE = cv2.FONT_HERSHEY_PLAIN\n",
    "FONT_SCALE = 0.7\n",
    "THICKNESS = 1\n",
    "\n",
    "# 색깔\n",
    "BLACK = (0,0,0)\n",
    "BLUE = (255,178,50)\n",
    "YELLOW = (0,255,255)"
   ]
  },
  {
   "cell_type": "code",
   "execution_count": 5,
   "metadata": {},
   "outputs": [],
   "source": [
    "# 문자열 출력할 때 차지할 사각형 영역 크기 정보\n",
    "def draw_label(im, label, x, y):\n",
    "    # 텍스트 사이즈 가져오기\n",
    "    text_size = cv2.getTextSize(label, FONT_FACE, FONT_SCALE, THICKNESS)\n",
    "    dim, baseline = text_size[0],  text_size[1]\n",
    "    # 검은색 사각형을 만들기 위한 텍스트 사이즈 가져오기\n",
    "    cv2.rectangle(im, (x,y), (x + dim[0], y + dim[1] + baseline), (0,0,0), cv2.FILLED)\n",
    "    # 사각형 안에 텍스트 넣기\n",
    "    cv2.putText(im, label, (x, y + dim[1]), FONT_FACE, FONT_SCALE, YELLOW, THICKNESS, cv2.LINE_AA)"
   ]
  },
  {
   "cell_type": "code",
   "execution_count": 6,
   "metadata": {},
   "outputs": [],
   "source": [
    "# v5 모델 사전 처리작업\n",
    "def pre_process(input_image, net):\n",
    "    # 프레임으로부터의 4차원 blob 만들기\n",
    "    blob = cv2.dnn.blobFromImage(input_image, 1/255, (INPUT_WIDTH, INPUT_HEIGHT), [0,0,0], 1, crop=False)\n",
    "\n",
    "    # 네트워크 구성하기\n",
    "    net.setInput(blob)\n",
    "\n",
    "    # 출력층의 출력값을 가져오기위한 forward pass 실행\n",
    "    outputs = net.forward(net.getUnconnectedOutLayersNames())\n",
    "    return outputs\n",
    "\n",
    "# getUnconnectedOutLayersNames() 은 출력층의 이름들을 제공한다."
   ]
  },
  {
   "cell_type": "code",
   "execution_count": 7,
   "metadata": {},
   "outputs": [],
   "source": [
    "'''\n",
    "    post-process steps\n",
    "    1. Loop through detections\n",
    "    2. Filter out good detections\n",
    "    3. Get the index of the best class score\n",
    "    4. Discard detections with class scores lower than the threshold value\n",
    "'''\n",
    "\n",
    "def post_process(input_image, outputs):\n",
    "    # 각각의 값들을 넣기위한 리스트\n",
    "    class_ids = []\n",
    "    confidences = []\n",
    "    boxes = []\n",
    "    \n",
    "    # 각 행의 값들\n",
    "    rows = outputs[0].shape[1]\n",
    "    image_height, image_width = input_image.shape[:2]\n",
    "\n",
    "    # factor 리사이징하기\n",
    "    x_factor = image_width / INPUT_WIDTH\n",
    "    y_factor = image_height / INPUT_HEIGHT\n",
    "\n",
    "    # detections을 위한 반복문\n",
    "    for r in range(rows):\n",
    "        row = outputs[0][0][r]\n",
    "        confidence = row[4]\n",
    "        # 낮은 detections들은 제거\n",
    "        if confidence >= CONFIDENCE_THRESHOLD:\n",
    "            classes_scores = row[5:]\n",
    "            # class의 최고값의 인덱스 가져오기\n",
    "            class_id = np.argmax(classes_scores)\n",
    "            # 지정한 threshold 이상이면 계속\n",
    "            if (classes_scores[class_id] > SCORE_THRESHOLD):\n",
    "                confidences.append(confidence)\n",
    "                class_ids.append(class_id)\n",
    "                cx, cy, w, h = row[0], row[1], row[2], row[3]\n",
    "                left = int((cx - w/2) * x_factor)\n",
    "                top = int((cy - h/2) * y_factor)\n",
    "                width = int(w * x_factor)\n",
    "                height = int(h * y_factor)\n",
    "                box = np.array([left, top, width, height])\n",
    "                boxes.append(box)\n",
    "\n",
    "    indices = cv2.dnn.NMSBoxes(boxes, confidences, CONFIDENCE_THRESHOLD, NMS_THRESHOLD)\n",
    "\n",
    "    for i in indices:\n",
    "        box = boxes[i]\n",
    "        left = box[0]\n",
    "        top = box[1]\n",
    "        width = box[2]\n",
    "        height = box[3]\n",
    "        # 바운딩박스 그리기\n",
    "        cv2.rectangle(input_image, (left, top), (left +width, top + height), BLUE, 3*THICKNESS)\n",
    "        # Class lable\n",
    "        label = \"{}:{:.2f}\".format(classes[class_ids[i]], confidences[i])\n",
    "        # 라벨링\n",
    "        draw_label(input_image, label, left, top)\n",
    "    return input_image"
   ]
  },
  {
   "cell_type": "code",
   "execution_count": null,
   "metadata": {},
   "outputs": [],
   "source": []
  },
  {
   "cell_type": "code",
   "execution_count": 6,
   "metadata": {},
   "outputs": [],
   "source": [
    "if __name__ == '__main__':\n",
    "    # class 네임 불러오기\n",
    "    classesFile = 'C:/localRepository/opencv/three.names'\n",
    "    classes =None\n",
    "    with open(classesFile, 'rt') as f:\n",
    "        classes = f.read().rstrip('\\n').split('\\n')\n",
    "\n",
    "    # Load image\n",
    "    # frame = cv2.imread('C:/localRepository/deepLearning/crosswalk_17_jpg.rf.10f8bfeac778e28bd47f3e53b69dcf19.jpg')\n",
    "    \n",
    "    # Load video\n",
    "    # cap = cv2.VideoCapture('C:\\localRepository\\deepLearning\\crosswalk.mp4')\n",
    "    cap = cv2.VideoCapture(0)\n",
    "    \n",
    "\n",
    "    # 가중치 파일 네트워크 적용\n",
    "    modelWeights = 'C:/localRepository/opencv/best_l.onnx'\n",
    "    net = cv2.dnn.readNetFromONNX(modelWeights)\n",
    "    \n",
    "    while True:\n",
    "        # 이미지 가공\n",
    "        ret, frame = cap.read()\n",
    "        detections = pre_process(frame, net)\n",
    "        img = post_process(frame.copy(), detections)\n",
    "        '''\n",
    "        Put efficiency information. The function getPerfProfile returns\n",
    "        the overall time for inference(t)\n",
    "        and the timings for each of the layers(in layersTimes)\n",
    "        '''\n",
    "        # t, _ = net.getPerfProfile()\n",
    "        # label = 'Inference time: %.2f ms' % (t * 1000.0 / cv2.getTickFrequency())\n",
    "        # print(label)\n",
    "        cv2.putText(img, None, (20,40), FONT_FACE, FONT_SCALE, (0,0,255), THICKNESS, cv2.LINE_AA)\n",
    "        cv2.imshow('Output', img)\n",
    "        cv2.waitKey(1)\n",
    "\n",
    "        k = cv2.waitKey(30) & 0xff\n",
    "        if k == 27:\n",
    "            break\n",
    "\n",
    "    cap.release()\n",
    "    cv2.destroyAllWindows()"
   ]
  },
  {
   "cell_type": "code",
   "execution_count": 8,
   "metadata": {},
   "outputs": [],
   "source": [
    "if __name__ == '__main__':\n",
    "    # Load class names\n",
    "    classesFile = 'C:/localRepository/opencv/three.names'\n",
    "    classes =None\n",
    "    with open(classesFile, 'rt') as f:\n",
    "        classes = f.read().rstrip('\\n').split('\\n')\n",
    "\n",
    "    # Load image\n",
    "    cap = cv2.VideoCapture('C:/localRepository/opencv/normal.mp4')\n",
    "    \n",
    "    # Load video\n",
    "    # cap = cv2.VideoCapture('C:\\localRepository\\deepLearning\\crosswalk.mp4')\n",
    "    # cap = cv2.VideoCapture(0)\n",
    "    \n",
    "\n",
    "    # Give the weight files to the model and load the network using them\n",
    "    modelWeights = 'C:/localRepository/opencv/best_m.onnx'\n",
    "    net = cv2.dnn.readNetFromONNX(modelWeights)\n",
    "    \n",
    "    while True:\n",
    "    # Process image\n",
    "        ret, frame = cap.read()\n",
    "        detections = pre_process(frame, net)\n",
    "        img = post_process(frame.copy(), detections)\n",
    "        '''\n",
    "        Put efficiency information. The function getPerfProfile returns\n",
    "        the overall time for inference(t)\n",
    "        and the timings for each of the layers(in layersTimes)\n",
    "        '''\n",
    "        # t, _ = net.getPerfProfile()\n",
    "        # label = 'Inference time: %.2f ms' % (t * 1000.0 / cv2.getTickFrequency())\n",
    "        # print(label)\n",
    "        cv2.putText(img, None, (20,40), FONT_FACE, FONT_SCALE, (0,0,255), THICKNESS, cv2.LINE_AA)\n",
    "        cv2.imshow('Output', img)\n",
    "        cv2.waitKey(1)\n",
    "\n",
    "        k = cv2.waitKey(30) & 0xff\n",
    "        if k == 27:\n",
    "            break\n",
    "\n",
    "    cap.release()\n",
    "    cv2.destroyAllWindows()"
   ]
  },
  {
   "cell_type": "code",
   "execution_count": 11,
   "metadata": {},
   "outputs": [],
   "source": [
    "# 영상 정보 불러오기 테스트용\n",
    "# cap = cv2.VideoCapture('C:\\localRepository\\deepLearning\\crosswalk.mp4')\n",
    "\n",
    "# width = cap.get(cv2.CAP_PROP_FRAME_WIDTH)\n",
    "# height = cap.get(cv2.CAP_PROP_FRAME_HEIGHT)\n",
    "# count = cap.get(cv2.CAP_PROP_FRAME_COUNT)\n",
    "# fps = cap.get(cv2.CAP_PROP_FPS)\n",
    "\n",
    "# print('가로 :', str(width))\n",
    "# print('세로 :', str(height))\n",
    "# print('총 프레임 수 :', str(count))\n",
    "# print('FPS :', str(fps))"
   ]
  },
  {
   "cell_type": "code",
   "execution_count": null,
   "metadata": {},
   "outputs": [],
   "source": []
  }
 ],
 "metadata": {
  "kernelspec": {
   "display_name": "Python 3.9.13 ('yolov5_open')",
   "language": "python",
   "name": "python3"
  },
  "language_info": {
   "codemirror_mode": {
    "name": "ipython",
    "version": 3
   },
   "file_extension": ".py",
   "mimetype": "text/x-python",
   "name": "python",
   "nbconvert_exporter": "python",
   "pygments_lexer": "ipython3",
   "version": "3.9.13"
  },
  "orig_nbformat": 4,
  "vscode": {
   "interpreter": {
    "hash": "61a7ccd1b15c2ec1b4369fc8c162d4b48409032042b14640c2a5b10f6867b3c1"
   }
  }
 },
 "nbformat": 4,
 "nbformat_minor": 2
}
